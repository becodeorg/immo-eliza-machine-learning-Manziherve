{
 "cells": [
  {
   "cell_type": "markdown",
   "id": "7e67cf0a",
   "metadata": {},
   "source": [
    "Import libs"
   ]
  },
  {
   "cell_type": "code",
   "execution_count": 1,
   "id": "be9c06f3",
   "metadata": {},
   "outputs": [],
   "source": [
    "import pandas as pd\n",
    "from lightgbm import LGBMRegressor\n",
    "from sklearn.metrics import r2_score\n",
    "from sklearn.pipeline import Pipeline\n",
    "from sklearn.compose import ColumnTransformer\n",
    "from sklearn.preprocessing import OneHotEncoder\n",
    "from sklearn.model_selection import train_test_split\n",
    "from sklearn.metrics import mean_absolute_error, mean_squared_error, mean_absolute_percentage_error"
   ]
  },
  {
   "cell_type": "markdown",
   "id": "49d86fe8",
   "metadata": {},
   "source": [
    "Load dataset"
   ]
  },
  {
   "cell_type": "code",
   "execution_count": 2,
   "id": "c4b66ef6",
   "metadata": {},
   "outputs": [],
   "source": [
    "df = pd.read_csv(\"kangaroo_clean.csv\")  # Replace with your actual file\n",
    "# df.head()"
   ]
  },
  {
   "cell_type": "markdown",
   "id": "b33faf18",
   "metadata": {},
   "source": [
    "Make a subset of columns"
   ]
  },
  {
   "cell_type": "code",
   "execution_count": 3,
   "id": "e1288498",
   "metadata": {},
   "outputs": [],
   "source": [
    "kgr_subset = df[[\n",
    "                 \"type_subtype\",\n",
    "                 \"bedroomCount\",\n",
    "                 \"locality_normalized\",\n",
    "                 \"habitableSurface\",\n",
    "                 \"epcScoreMapping\",\n",
    "                 \"province\",\n",
    "                 \"price\",\n",
    "                 \"roomCount\",\n",
    "                 \"facedeCount\",\n",
    "                 \"gardenSurface\",\n",
    "                 \"kitchenType\"\n",
    "            ]]"
   ]
  },
  {
   "cell_type": "markdown",
   "id": "baac6be1",
   "metadata": {},
   "source": [
    "Remove \"price\" outliers"
   ]
  },
  {
   "cell_type": "code",
   "execution_count": 4,
   "id": "c7fae53d",
   "metadata": {},
   "outputs": [],
   "source": [
    "kgr_subset = kgr_subset[(kgr_subset[\"price\"] > 80000) & (kgr_subset[\"price\"] < 1200000)] "
   ]
  },
  {
   "cell_type": "markdown",
   "id": "3560ae88",
   "metadata": {},
   "source": [
    "Drop missing values in facedecount column"
   ]
  },
  {
   "cell_type": "code",
   "execution_count": 5,
   "id": "d114ddf4",
   "metadata": {},
   "outputs": [],
   "source": [
    "kgr_subset = kgr_subset.dropna(axis=0, subset=[\"facedeCount\"])"
   ]
  },
  {
   "cell_type": "markdown",
   "id": "5a318621",
   "metadata": {},
   "source": [
    "Define the target and features "
   ]
  },
  {
   "cell_type": "code",
   "execution_count": 6,
   "id": "75b0dd39",
   "metadata": {},
   "outputs": [],
   "source": [
    "\n",
    "X = kgr_subset.drop([\"price\"], axis=1, inplace=False)\n",
    "y = kgr_subset[\"price\"]"
   ]
  },
  {
   "cell_type": "markdown",
   "id": "d5f4514f",
   "metadata": {},
   "source": [
    "Define categorical or numerical columns"
   ]
  },
  {
   "cell_type": "code",
   "execution_count": 7,
   "id": "a79980f9",
   "metadata": {},
   "outputs": [],
   "source": [
    "num_cols = [\"bedroomCount\", \"habitableSurface\", \"facedeCount\", \"gardenSurface\", \"roomCount\"]\n",
    "cat_cols = [\"type_subtype\",\"locality_normalized\", \"province\", \"epcScoreMapping\", \"kitchenType\"]\n"
   ]
  },
  {
   "cell_type": "markdown",
   "id": "2a7739b6",
   "metadata": {},
   "source": [
    "Preprocess the categorical columns with OneHotEncoder"
   ]
  },
  {
   "cell_type": "code",
   "execution_count": 8,
   "id": "5e355434",
   "metadata": {},
   "outputs": [],
   "source": [
    "prep = ColumnTransformer(\n",
    "    transformers=[\n",
    "        (\"cat\", OneHotEncoder(handle_unknown=\"ignore\", sparse_output=False), cat_cols)\n",
    "    ],\n",
    "    remainder=\"passthrough\"\n",
    ")"
   ]
  },
  {
   "cell_type": "markdown",
   "id": "29e2b7b1",
   "metadata": {},
   "source": [
    "Create a pipeline model with LightGBM Regressor"
   ]
  },
  {
   "cell_type": "code",
   "execution_count": 9,
   "id": "8edd8032",
   "metadata": {},
   "outputs": [],
   "source": [
    "LGBM_model = Pipeline(steps=[\n",
    "    (\"preprocessing\", prep),\n",
    "    (\"regressor\", LGBMRegressor(n_estimators=100, max_depth=6, learning_rate=0.1, random_state=42))\n",
    "])"
   ]
  },
  {
   "cell_type": "markdown",
   "id": "35b5e54e",
   "metadata": {},
   "source": [
    "Split in 80% Training and 20% Testing"
   ]
  },
  {
   "cell_type": "code",
   "execution_count": 10,
   "id": "9c2f1ac4",
   "metadata": {},
   "outputs": [],
   "source": [
    "X_train, X_test, y_train, y_test = train_test_split(X, y, shuffle=True, random_state=42, test_size=0.2)"
   ]
  },
  {
   "cell_type": "markdown",
   "id": "a4cc7554",
   "metadata": {},
   "source": [
    "Calculate the errors"
   ]
  },
  {
   "cell_type": "code",
   "execution_count": 11,
   "id": "2565a199",
   "metadata": {},
   "outputs": [
    {
     "name": "stdout",
     "output_type": "stream",
     "text": [
      "[LightGBM] [Info] Auto-choosing row-wise multi-threading, the overhead of testing was 0.020635 seconds.\n",
      "You can set `force_row_wise=true` to remove the overhead.\n",
      "And if memory is not enough, you can set `force_col_wise=true`.\n",
      "[LightGBM] [Info] Total Bins 1471\n",
      "[LightGBM] [Info] Number of data points in the train set: 37719, number of used features: 456\n",
      "[LightGBM] [Info] Start training from score 370633.723402\n",
      "[LightGBM] [Warning] No further splits with positive gain, best gain: -inf\n",
      "[LightGBM] [Warning] No further splits with positive gain, best gain: -inf\n",
      "[LightGBM] [Warning] No further splits with positive gain, best gain: -inf\n",
      "[LightGBM] [Warning] No further splits with positive gain, best gain: -inf\n",
      "[LightGBM] [Warning] No further splits with positive gain, best gain: -inf\n",
      "[LightGBM] [Warning] No further splits with positive gain, best gain: -inf\n",
      "[LightGBM] [Warning] No further splits with positive gain, best gain: -inf\n",
      "[LightGBM] [Warning] No further splits with positive gain, best gain: -inf\n",
      "[LightGBM] [Warning] No further splits with positive gain, best gain: -inf\n",
      "[LightGBM] [Warning] No further splits with positive gain, best gain: -inf\n",
      "[LightGBM] [Warning] No further splits with positive gain, best gain: -inf\n",
      "[LightGBM] [Warning] No further splits with positive gain, best gain: -inf\n",
      "[LightGBM] [Warning] No further splits with positive gain, best gain: -inf\n",
      "[LightGBM] [Warning] No further splits with positive gain, best gain: -inf\n",
      "[LightGBM] [Warning] No further splits with positive gain, best gain: -inf\n",
      "[LightGBM] [Warning] No further splits with positive gain, best gain: -inf\n",
      "[LightGBM] [Warning] No further splits with positive gain, best gain: -inf\n",
      "[LightGBM] [Warning] No further splits with positive gain, best gain: -inf\n",
      "[LightGBM] [Warning] No further splits with positive gain, best gain: -inf\n",
      "[LightGBM] [Warning] No further splits with positive gain, best gain: -inf\n",
      "[LightGBM] [Warning] No further splits with positive gain, best gain: -inf\n",
      "[LightGBM] [Warning] No further splits with positive gain, best gain: -inf\n",
      "[LightGBM] [Warning] No further splits with positive gain, best gain: -inf\n",
      "[LightGBM] [Warning] No further splits with positive gain, best gain: -inf\n",
      "[LightGBM] [Warning] No further splits with positive gain, best gain: -inf\n",
      "[LightGBM] [Warning] No further splits with positive gain, best gain: -inf\n",
      "[LightGBM] [Warning] No further splits with positive gain, best gain: -inf\n",
      "[LightGBM] [Warning] No further splits with positive gain, best gain: -inf\n",
      "[LightGBM] [Warning] No further splits with positive gain, best gain: -inf\n",
      "[LightGBM] [Warning] No further splits with positive gain, best gain: -inf\n",
      "[LightGBM] [Warning] No further splits with positive gain, best gain: -inf\n",
      "[LightGBM] [Warning] No further splits with positive gain, best gain: -inf\n",
      "[LightGBM] [Warning] No further splits with positive gain, best gain: -inf\n",
      "[LightGBM] [Warning] No further splits with positive gain, best gain: -inf\n",
      "[LightGBM] [Warning] No further splits with positive gain, best gain: -inf\n",
      "[LightGBM] [Warning] No further splits with positive gain, best gain: -inf\n",
      "[LightGBM] [Warning] No further splits with positive gain, best gain: -inf\n",
      "[LightGBM] [Warning] No further splits with positive gain, best gain: -inf\n",
      "[LightGBM] [Warning] No further splits with positive gain, best gain: -inf\n",
      "[LightGBM] [Warning] No further splits with positive gain, best gain: -inf\n",
      "[LightGBM] [Warning] No further splits with positive gain, best gain: -inf\n",
      "[LightGBM] [Warning] No further splits with positive gain, best gain: -inf\n",
      "[LightGBM] [Warning] No further splits with positive gain, best gain: -inf\n",
      "[LightGBM] [Warning] No further splits with positive gain, best gain: -inf\n",
      "📈 MAE  (Mean Absolute Error)     : 75541.15\n",
      "📊 MAE (en proportion)           : 0.2045\n",
      "📉 MAPE (Mean Absolute Percentage Error) : 22.61%\n",
      "🔁 RMSE (Root Mean Squared Error) : 12016079242.02\n",
      "📊 Score R² on the test set : 0.694\n"
     ]
    },
    {
     "name": "stderr",
     "output_type": "stream",
     "text": [
      "c:\\Users\\Administrateur\\Documents\\PythonBecode\\machine_learning\\streamLit\\YT-streamlit\\streamlit\\Lib\\site-packages\\sklearn\\utils\\validation.py:2739: UserWarning: X does not have valid feature names, but LGBMRegressor was fitted with feature names\n",
      "  warnings.warn(\n"
     ]
    }
   ],
   "source": [
    "LGBM_model.fit(X_train, y_train)\n",
    "y_pred = LGBM_model.predict(X_test)\n",
    "mae = mean_absolute_error(y_test, y_pred)\n",
    "mape = mean_absolute_percentage_error(y_test, y_pred)\n",
    "rmse = mean_squared_error(y_test, y_pred) \n",
    "r2 = r2_score(y_test, y_pred)\n",
    "mae_proportion = mae / y_test.mean()\n",
    "print(f\"📈 MAE  (Mean Absolute Error)     : {mae:.2f}\")\n",
    "print(f\"📊 MAE (en proportion)           : {mae_proportion:.4f}\")\n",
    "print(f\"📉 MAPE (Mean Absolute Percentage Error) : {mape * 100:.2f}%\")\n",
    "print(f\"🔁 RMSE (Root Mean Squared Error) : {rmse:.2f}\")\n",
    "print(f\"📊 Score R² on the test set : {r2:.3f}\")"
   ]
  },
  {
   "cell_type": "markdown",
   "id": "024de208",
   "metadata": {},
   "source": [
    "Save Model"
   ]
  },
  {
   "cell_type": "code",
   "execution_count": 12,
   "id": "fedca802",
   "metadata": {},
   "outputs": [],
   "source": [
    "# Save the model\n",
    "import pickle\n",
    "pickle.dump(LGBM_model, open(\"kangaroo_clean.sav\", \"wb\"))"
   ]
  }
 ],
 "metadata": {
  "kernelspec": {
   "display_name": "streamlit",
   "language": "python",
   "name": "python3"
  },
  "language_info": {
   "codemirror_mode": {
    "name": "ipython",
    "version": 3
   },
   "file_extension": ".py",
   "mimetype": "text/x-python",
   "name": "python",
   "nbconvert_exporter": "python",
   "pygments_lexer": "ipython3",
   "version": "3.13.2"
  }
 },
 "nbformat": 4,
 "nbformat_minor": 5
}
